{
  "cells": [
    {
      "cell_type": "markdown",
      "id": "bef40da5",
      "metadata": {
        "id": "bef40da5"
      },
      "source": [
        "# Python_Basics_Assignment_16 Solution :-\n",
        "SUBMITTED BY: MD MUMTAZ ALAM"
      ]
    },
    {
      "cell_type": "markdown",
      "id": "508037d2",
      "metadata": {
        "id": "508037d2"
      },
      "source": [
        "## 1. Create a list called years_list, starting with the year of your birth, and each year thereafter until the year of your fifth birthday. For example, if you were born in 1980. the list would be years_list = [1980, 1981, 1982, 1983, 1984, 1985]."
      ]
    },
    {
      "cell_type": "code",
      "execution_count": null,
      "id": "0308c820",
      "metadata": {
        "id": "0308c820",
        "outputId": "4b0ab6bc-e592-48d9-db31-93748ad1ad09"
      },
      "outputs": [
        {
          "name": "stdout",
          "output_type": "stream",
          "text": [
            "[1997, 1998, 1999, 2000, 2001, 2002]\n"
          ]
        }
      ],
      "source": [
        "years_list = [ele for ele in range(1997,1997+6)]\n",
        "print(years_list)"
      ]
    },
    {
      "cell_type": "markdown",
      "id": "08865f87",
      "metadata": {
        "id": "08865f87"
      },
      "source": [
        "## 2. In which year in years_list was your third birthday? Remember, you were 0 years of age for your first year."
      ]
    },
    {
      "cell_type": "code",
      "execution_count": null,
      "id": "33c4b745",
      "metadata": {
        "id": "33c4b745",
        "outputId": "471dd3b1-cd2f-4c7b-f650-2000964bd68d"
      },
      "outputs": [
        {
          "name": "stdout",
          "output_type": "stream",
          "text": [
            "2000\n"
          ]
        }
      ],
      "source": [
        "print(years_list[3])\n"
      ]
    },
    {
      "cell_type": "markdown",
      "id": "1b13e9d6",
      "metadata": {
        "id": "1b13e9d6"
      },
      "source": [
        "## 3.In the years list, which year were you the oldest?"
      ]
    },
    {
      "cell_type": "code",
      "execution_count": null,
      "id": "3e390738",
      "metadata": {
        "id": "3e390738",
        "outputId": "fb81556f-4876-4d86-e3a8-94b83423b99d"
      },
      "outputs": [
        {
          "name": "stdout",
          "output_type": "stream",
          "text": [
            "2002\n"
          ]
        }
      ],
      "source": [
        "print(years_list[-1])"
      ]
    },
    {
      "cell_type": "markdown",
      "id": "3f3d491c",
      "metadata": {
        "id": "3f3d491c"
      },
      "source": [
        "## 4. Make a list called things with these three strings as elements: \"mozzarella\", \"cinderella\", \"salmonella\"."
      ]
    },
    {
      "cell_type": "code",
      "execution_count": null,
      "id": "cd738e75",
      "metadata": {
        "id": "cd738e75",
        "outputId": "9e5a4afa-a4ae-4f2e-f6e1-9384662e8e46"
      },
      "outputs": [
        {
          "name": "stdout",
          "output_type": "stream",
          "text": [
            "['mozzarella', 'cinderella', 'salmonella']\n"
          ]
        }
      ],
      "source": [
        "things = [ele+'ella' for ele in ['mozzar','cinder','salmon']]\n",
        "print(things)"
      ]
    },
    {
      "cell_type": "markdown",
      "id": "0847eec0",
      "metadata": {
        "id": "0847eec0"
      },
      "source": [
        "## 5. Capitalize the element in things that refers to a person and then print the list. Did it change the element in the list?"
      ]
    },
    {
      "cell_type": "code",
      "execution_count": null,
      "id": "802c48b0",
      "metadata": {
        "id": "802c48b0",
        "outputId": "d6f4fe35-7896-471e-a709-74b14ffaf5d2"
      },
      "outputs": [
        {
          "name": "stdout",
          "output_type": "stream",
          "text": [
            "['mozzarella', 'Cinderella', 'salmonella']\n"
          ]
        }
      ],
      "source": [
        "for ele in range(len(things)):\n",
        "    if things[ele] == 'cinderella':\n",
        "        things[ele] = things[ele].capitalize()\n",
        "print(things)"
      ]
    },
    {
      "cell_type": "markdown",
      "id": "4a2c9752",
      "metadata": {
        "id": "4a2c9752"
      },
      "source": [
        "## 6. Make a surprise list with the elements \"Groucho,\" \"Chico,\" and \"Harpo.\""
      ]
    },
    {
      "cell_type": "code",
      "execution_count": null,
      "id": "19cd286a",
      "metadata": {
        "id": "19cd286a",
        "outputId": "223979d9-6cd7-4e81-a25b-6fbdbbb02b28"
      },
      "outputs": [
        {
          "name": "stdout",
          "output_type": "stream",
          "text": [
            "['Groucho', 'Chico', 'Harpo']\n"
          ]
        }
      ],
      "source": [
        "suprise_list = ['Groucho','Chico','Harpo']\n",
        "print(suprise_list)"
      ]
    },
    {
      "cell_type": "markdown",
      "id": "b689fc39",
      "metadata": {
        "id": "b689fc39"
      },
      "source": [
        "## 7. Lowercase the last element of the surprise list, reverse it, and then capitalize it."
      ]
    },
    {
      "cell_type": "code",
      "execution_count": null,
      "id": "3f3bc9db",
      "metadata": {
        "id": "3f3bc9db",
        "outputId": "75ffedbe-bd15-4bbb-e9b4-e96d5e36a4d7"
      },
      "outputs": [
        {
          "name": "stdout",
          "output_type": "stream",
          "text": [
            "Oprah\n"
          ]
        }
      ],
      "source": [
        "print(suprise_list[-1].lower()[::-1].capitalize())"
      ]
    },
    {
      "cell_type": "markdown",
      "id": "d2cb4935",
      "metadata": {
        "id": "d2cb4935"
      },
      "source": [
        "## 8. Make an English-to-French dictionary called e2f and print it. Here are your starter words: dog is chien, cat is chat, and walrus is morse."
      ]
    },
    {
      "cell_type": "code",
      "execution_count": null,
      "id": "6df1e481",
      "metadata": {
        "id": "6df1e481",
        "outputId": "c203422e-737e-4aac-8123-12daaaff6982"
      },
      "outputs": [
        {
          "name": "stdout",
          "output_type": "stream",
          "text": [
            "{'dog': 'chien', 'cat': 'chat', 'walrus': 'morse'}\n"
          ]
        }
      ],
      "source": [
        "e2f = {'dog':'chien','cat':'chat','walrus':'morse'}\n",
        "print(e2f)"
      ]
    },
    {
      "cell_type": "markdown",
      "id": "47078760",
      "metadata": {
        "id": "47078760"
      },
      "source": [
        "## 9. Write the French word for walrus in your three-word dictionary e2f."
      ]
    },
    {
      "cell_type": "code",
      "execution_count": null,
      "id": "d2081e62",
      "metadata": {
        "id": "d2081e62",
        "outputId": "1f764fc6-586e-4668-99da-2ae6d60b7b32"
      },
      "outputs": [
        {
          "name": "stdout",
          "output_type": "stream",
          "text": [
            "morse\n"
          ]
        }
      ],
      "source": [
        "print(e2f.get('walrus'))"
      ]
    },
    {
      "cell_type": "markdown",
      "id": "1723b03d",
      "metadata": {
        "id": "1723b03d"
      },
      "source": [
        "## 10. Make a French-to-English dictionary called f2e from e2f. Use the items method."
      ]
    },
    {
      "cell_type": "code",
      "execution_count": null,
      "id": "8479687b",
      "metadata": {
        "id": "8479687b",
        "outputId": "19ae7886-f6f0-4dcd-e40e-9ebc0bfa57b8"
      },
      "outputs": [
        {
          "name": "stdout",
          "output_type": "stream",
          "text": [
            "{'chien': 'dog', 'chat': 'cat', 'morse': 'walrus'}\n"
          ]
        }
      ],
      "source": [
        "f2e = dict([ele[::-1] for ele in e2f.items()])\n",
        "print(f2e)"
      ]
    },
    {
      "cell_type": "markdown",
      "id": "52065dd8",
      "metadata": {
        "id": "52065dd8"
      },
      "source": [
        "## 11. Print the English version of the French word chien using f2e."
      ]
    },
    {
      "cell_type": "code",
      "execution_count": null,
      "id": "69339139",
      "metadata": {
        "id": "69339139",
        "outputId": "b9ce4593-de09-4c86-fc6f-21a76b902eb8"
      },
      "outputs": [
        {
          "name": "stdout",
          "output_type": "stream",
          "text": [
            "dog\n"
          ]
        }
      ],
      "source": [
        "print(f2e.get('chien'))"
      ]
    },
    {
      "cell_type": "markdown",
      "id": "8ee65105",
      "metadata": {
        "id": "8ee65105"
      },
      "source": [
        "## 12. Make and print a set of English words from the keys in e2f."
      ]
    },
    {
      "cell_type": "code",
      "execution_count": null,
      "id": "8ca958d2",
      "metadata": {
        "id": "8ca958d2",
        "outputId": "e40b192f-d467-4069-9879-6b507316cd60"
      },
      "outputs": [
        {
          "name": "stdout",
          "output_type": "stream",
          "text": [
            "['dog', 'cat', 'walrus']\n"
          ]
        }
      ],
      "source": [
        "print(list(e2f.keys()))"
      ]
    },
    {
      "cell_type": "markdown",
      "id": "32976f6d",
      "metadata": {
        "id": "32976f6d"
      },
      "source": [
        "## 13. Make a multilevel dictionary called life. Use these strings for the topmost keys: 'animals', 'plants', and 'other'. Make the 'animals' key refer to another dictionary with the keys 'cats', 'octopi', and 'emus'. Make the 'cats' key refer to a list of strings with the values 'Henri', 'Grumpy', and 'Lucy'. Make all the other keys refer to empty dictionaries."
      ]
    },
    {
      "cell_type": "code",
      "execution_count": null,
      "id": "b777d6ff",
      "metadata": {
        "id": "b777d6ff",
        "outputId": "caf3294b-b4c3-4a1f-f88f-7662f04d4c8a"
      },
      "outputs": [
        {
          "name": "stdout",
          "output_type": "stream",
          "text": [
            "{'animals': {'cats': ['Henri', 'Grumpy', 'Lucy'], 'octopi': {}, 'emus': {}}, 'plants': {}, 'other': {}}\n"
          ]
        }
      ],
      "source": [
        "life = {\n",
        "    'animals':{\n",
        "        'cats':['Henri','Grumpy','Lucy'],\n",
        "        'octopi':{},\n",
        "        'emus':{}\n",
        "    },\n",
        "    'plants':{},\n",
        "    'other':{}\n",
        "}\n",
        "print(life)"
      ]
    },
    {
      "cell_type": "markdown",
      "id": "a2b821e7",
      "metadata": {
        "id": "a2b821e7"
      },
      "source": [
        "## 14. Print the top-level keys of life."
      ]
    },
    {
      "cell_type": "code",
      "execution_count": null,
      "id": "6ce9036e",
      "metadata": {
        "id": "6ce9036e",
        "outputId": "7d7c60d8-0534-48ce-b707-e82f76d46ec0"
      },
      "outputs": [
        {
          "name": "stdout",
          "output_type": "stream",
          "text": [
            "['animals', 'plants', 'other']\n"
          ]
        }
      ],
      "source": [
        "print(list(life.keys()))"
      ]
    },
    {
      "cell_type": "markdown",
      "id": "3c73e125",
      "metadata": {
        "id": "3c73e125"
      },
      "source": [
        "## 15. Print the keys for life['animals']."
      ]
    },
    {
      "cell_type": "code",
      "execution_count": null,
      "id": "f55f85e4",
      "metadata": {
        "id": "f55f85e4",
        "outputId": "3dc0f5f8-38f0-48cb-eaf7-92c550853365"
      },
      "outputs": [
        {
          "name": "stdout",
          "output_type": "stream",
          "text": [
            "['cats', 'octopi', 'emus']\n"
          ]
        }
      ],
      "source": [
        "print(list(life['animals'].keys()))"
      ]
    },
    {
      "cell_type": "markdown",
      "id": "ef0c8dc4",
      "metadata": {
        "id": "ef0c8dc4"
      },
      "source": [
        "## 16. Print the values for life['animals']['cats']"
      ]
    },
    {
      "cell_type": "code",
      "execution_count": null,
      "id": "e3513939",
      "metadata": {
        "id": "e3513939",
        "outputId": "f8935052-0b61-44ca-8fed-88a18a60d4af"
      },
      "outputs": [
        {
          "name": "stdout",
          "output_type": "stream",
          "text": [
            "['Henri', 'Grumpy', 'Lucy']\n"
          ]
        }
      ],
      "source": [
        "print(life['animals']['cats'])"
      ]
    },
    {
      "cell_type": "markdown",
      "id": "3efaa2cb",
      "metadata": {
        "id": "3efaa2cb"
      },
      "source": [
        "# Thank You"
      ]
    }
  ],
  "metadata": {
    "kernelspec": {
      "display_name": "Python 3 (ipykernel)",
      "language": "python",
      "name": "python3"
    },
    "language_info": {
      "codemirror_mode": {
        "name": "ipython",
        "version": 3
      },
      "file_extension": ".py",
      "mimetype": "text/x-python",
      "name": "python",
      "nbconvert_exporter": "python",
      "pygments_lexer": "ipython3",
      "version": "3.9.7"
    },
    "colab": {
      "provenance": []
    }
  },
  "nbformat": 4,
  "nbformat_minor": 5
}